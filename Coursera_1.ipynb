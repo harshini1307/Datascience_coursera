{
  "metadata": {
    "kernelspec": {
      "name": "python",
      "display_name": "Python (Pyodide)",
      "language": "python"
    },
    "language_info": {
      "codemirror_mode": {
        "name": "python",
        "version": 3
      },
      "file_extension": ".py",
      "mimetype": "text/x-python",
      "name": "python",
      "nbconvert_exporter": "python",
      "pygments_lexer": "ipython3",
      "version": "3.8"
    }
  },
  "nbformat_minor": 5,
  "nbformat": 4,
  "cells": [
    {
      "id": "55508430-7be5-46fb-8eba-31487784e055",
      "cell_type": "markdown",
      "source": "# Tools for Data Science",
      "metadata": {}
    },
    {
      "id": "62807d15-84ec-467a-b14f-81c1df846c22",
      "cell_type": "markdown",
      "source": "## Introduction\nThis notebook provides a summary of tools and techniques used in Data Science. It includes common libraries, tools, and basic operations.",
      "metadata": {}
    },
    {
      "id": "f27871b7-8261-4d03-a815-a593fe449e77",
      "cell_type": "markdown",
      "source": "## Languages used in Data Science\n1. Python\n2. R\n3. SQL\n4. Julia",
      "metadata": {}
    },
    {
      "id": "dddd0b90-2cc7-4098-928b-6a769d7e8fe1",
      "cell_type": "markdown",
      "source": "## Libraries used in Data Science\n1. Pandas\n2. NumPy\n3. Matplotlib\n4. Scikit-learn\n5. TensorFlow",
      "metadata": {}
    },
    {
      "id": "a71aa1b6-7e55-4a05-bb39-fef4a091b55f",
      "cell_type": "markdown",
      "source": "## Data Science Tools\n\n| Tool Name     | \n|---------------|\n| JupyterLab     | \n| RStudio        |\n| Apache Spark   |\n| TensorFlow     |\n| Tableau        | \n",
      "metadata": {}
    },
    {
      "id": "3418d1aa-23fc-4ed1-95f5-1e0c9d7297be",
      "cell_type": "markdown",
      "source": "## Examples of Arithmetic Expressions",
      "metadata": {}
    },
    {
      "id": "4a31f396-4982-4bc4-b87e-3266392059f9",
      "cell_type": "code",
      "source": "# Multiplication and Addition of numbers\n(3 * 4) + 5",
      "metadata": {
        "trusted": true
      },
      "outputs": [
        {
          "execution_count": 1,
          "output_type": "execute_result",
          "data": {
            "text/plain": "17"
          },
          "metadata": {}
        }
      ],
      "execution_count": 1
    },
    {
      "id": "7e6c2ce2-f9ad-4070-8452-7ec86f30875f",
      "cell_type": "code",
      "source": "# minutes to hours\nmi = 600\nhr = mi / 60\nhr\n",
      "metadata": {
        "trusted": true
      },
      "outputs": [
        {
          "execution_count": 4,
          "output_type": "execute_result",
          "data": {
            "text/plain": "10.0"
          },
          "metadata": {}
        }
      ],
      "execution_count": 4
    },
    {
      "id": "6903eb51-26c2-4e23-b3c4-139c89ba47c9",
      "cell_type": "markdown",
      "source": "## Objectives\n- List of few languages in data science\n- List of few commonly used libraries\n- A table of data science tools\n- Basic arithmetic operations\n- Converting units from minutes to hours\n",
      "metadata": {}
    },
    {
      "id": "c7479eaf-80fc-4854-828c-2db6fa0ec316",
      "cell_type": "markdown",
      "source": "## Author\nHarshini Reddy Penthala\n",
      "metadata": {}
    },
    {
      "id": "0fd1d017-b704-4011-ad17-d0b3f1ee4b94",
      "cell_type": "code",
      "source": "",
      "metadata": {
        "trusted": true
      },
      "outputs": [],
      "execution_count": null
    }
  ]
}